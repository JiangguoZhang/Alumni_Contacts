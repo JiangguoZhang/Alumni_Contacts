{
 "cells": [
  {
   "cell_type": "markdown",
   "source": [
    "# Contacts\n",
    "This notebook is going to generate fake contacts and perform analysis."
   ],
   "metadata": {
    "collapsed": false,
    "pycharm": {
     "name": "#%% md\n"
    }
   }
  },
  {
   "cell_type": "code",
   "execution_count": 1,
   "metadata": {
    "collapsed": true,
    "pycharm": {
     "name": "#%%\n"
    }
   },
   "outputs": [
    {
     "data": {
      "text/plain": "   Timestamp      Email Address   中文姓名  English Name  昵称      性别  入学年份  \\\n0 2024-01-01  user0@example.com  中文名字0  EnglishName0  张一    Male  2017   \n1 2024-01-02  user1@example.com  中文名字1  EnglishName1  张二  Female  2011   \n2 2024-01-03  user2@example.com  中文名字2  EnglishName2  张三    Male  2001   \n3 2024-01-04  user3@example.com  中文名字3  EnglishName3  张四    Male  2009   \n4 2024-01-05  user4@example.com  中文名字4  EnglishName4  张五    Male  2003   \n\n         学院        学位 现居住地邮编  ...      公司名称         联系方式               地址  \\\n0   Science    Master  42635  ...  Company0  11818671653  CompanyAddress0   \n1   Science  Bachelor  73208  ...  Company1  16319671406  CompanyAddress1   \n2  Business       PhD  43828  ...  Company2  17545106699  CompanyAddress2   \n3  Business       PhD  28711  ...  Company3  11109770783  CompanyAddress3   \n4      Arts       PhD  13420  ...  Company4  10024489115  CompanyAddress4   \n\n      邮编        业务范围       公司图标   匹配社区         社交爱好     体育运动类爱好   关注的热点话题  \n0  71709     Product  Logo0.png  34995  Photography  Basketball   Finance  \n1  79785  Consulting  Logo1.png  26977  Photography        Yoga  Politics  \n2  44518     Service  Logo2.png  44542      Reading    Swimming   Finance  \n3  63909     Service  Logo3.png  20651  Photography        Yoga   Finance  \n4  28351     Service  Logo4.png  88931      Reading    Swimming    Health  \n\n[5 rows x 32 columns]",
      "text/html": "<div>\n<style scoped>\n    .dataframe tbody tr th:only-of-type {\n        vertical-align: middle;\n    }\n\n    .dataframe tbody tr th {\n        vertical-align: top;\n    }\n\n    .dataframe thead th {\n        text-align: right;\n    }\n</style>\n<table border=\"1\" class=\"dataframe\">\n  <thead>\n    <tr style=\"text-align: right;\">\n      <th></th>\n      <th>Timestamp</th>\n      <th>Email Address</th>\n      <th>中文姓名</th>\n      <th>English Name</th>\n      <th>昵称</th>\n      <th>性别</th>\n      <th>入学年份</th>\n      <th>学院</th>\n      <th>学位</th>\n      <th>现居住地邮编</th>\n      <th>...</th>\n      <th>公司名称</th>\n      <th>联系方式</th>\n      <th>地址</th>\n      <th>邮编</th>\n      <th>业务范围</th>\n      <th>公司图标</th>\n      <th>匹配社区</th>\n      <th>社交爱好</th>\n      <th>体育运动类爱好</th>\n      <th>关注的热点话题</th>\n    </tr>\n  </thead>\n  <tbody>\n    <tr>\n      <th>0</th>\n      <td>2024-01-01</td>\n      <td>user0@example.com</td>\n      <td>中文名字0</td>\n      <td>EnglishName0</td>\n      <td>张一</td>\n      <td>Male</td>\n      <td>2017</td>\n      <td>Science</td>\n      <td>Master</td>\n      <td>42635</td>\n      <td>...</td>\n      <td>Company0</td>\n      <td>11818671653</td>\n      <td>CompanyAddress0</td>\n      <td>71709</td>\n      <td>Product</td>\n      <td>Logo0.png</td>\n      <td>34995</td>\n      <td>Photography</td>\n      <td>Basketball</td>\n      <td>Finance</td>\n    </tr>\n    <tr>\n      <th>1</th>\n      <td>2024-01-02</td>\n      <td>user1@example.com</td>\n      <td>中文名字1</td>\n      <td>EnglishName1</td>\n      <td>张二</td>\n      <td>Female</td>\n      <td>2011</td>\n      <td>Science</td>\n      <td>Bachelor</td>\n      <td>73208</td>\n      <td>...</td>\n      <td>Company1</td>\n      <td>16319671406</td>\n      <td>CompanyAddress1</td>\n      <td>79785</td>\n      <td>Consulting</td>\n      <td>Logo1.png</td>\n      <td>26977</td>\n      <td>Photography</td>\n      <td>Yoga</td>\n      <td>Politics</td>\n    </tr>\n    <tr>\n      <th>2</th>\n      <td>2024-01-03</td>\n      <td>user2@example.com</td>\n      <td>中文名字2</td>\n      <td>EnglishName2</td>\n      <td>张三</td>\n      <td>Male</td>\n      <td>2001</td>\n      <td>Business</td>\n      <td>PhD</td>\n      <td>43828</td>\n      <td>...</td>\n      <td>Company2</td>\n      <td>17545106699</td>\n      <td>CompanyAddress2</td>\n      <td>44518</td>\n      <td>Service</td>\n      <td>Logo2.png</td>\n      <td>44542</td>\n      <td>Reading</td>\n      <td>Swimming</td>\n      <td>Finance</td>\n    </tr>\n    <tr>\n      <th>3</th>\n      <td>2024-01-04</td>\n      <td>user3@example.com</td>\n      <td>中文名字3</td>\n      <td>EnglishName3</td>\n      <td>张四</td>\n      <td>Male</td>\n      <td>2009</td>\n      <td>Business</td>\n      <td>PhD</td>\n      <td>28711</td>\n      <td>...</td>\n      <td>Company3</td>\n      <td>11109770783</td>\n      <td>CompanyAddress3</td>\n      <td>63909</td>\n      <td>Service</td>\n      <td>Logo3.png</td>\n      <td>20651</td>\n      <td>Photography</td>\n      <td>Yoga</td>\n      <td>Finance</td>\n    </tr>\n    <tr>\n      <th>4</th>\n      <td>2024-01-05</td>\n      <td>user4@example.com</td>\n      <td>中文名字4</td>\n      <td>EnglishName4</td>\n      <td>张五</td>\n      <td>Male</td>\n      <td>2003</td>\n      <td>Arts</td>\n      <td>PhD</td>\n      <td>13420</td>\n      <td>...</td>\n      <td>Company4</td>\n      <td>10024489115</td>\n      <td>CompanyAddress4</td>\n      <td>28351</td>\n      <td>Service</td>\n      <td>Logo4.png</td>\n      <td>88931</td>\n      <td>Reading</td>\n      <td>Swimming</td>\n      <td>Health</td>\n    </tr>\n  </tbody>\n</table>\n<p>5 rows × 32 columns</p>\n</div>"
     },
     "execution_count": 1,
     "metadata": {},
     "output_type": "execute_result"
    }
   ],
   "source": [
    "import pandas as pd\n",
    "import numpy as np\n",
    "import os\n",
    "import random\n",
    "import matplotlib.pyplot as plt\n",
    "from matplotlib.font_manager import FontProperties\n",
    "\n",
    "\n",
    "np.random.seed(42)  # 确保生成的数据具有一定的可重复性\n",
    "\n",
    "def generate_phone_number():\n",
    "    return \"1\" + \"\".join(np.random.choice(list(\"0123456789\"), 10))\n",
    "\n",
    "# Generate 100 responses\n",
    "num_responses = 100\n",
    "\n",
    "communities = [\"Downtown\", \"Inner Loop\", \"I-610 to Beltway 8\", \"Energy Corridor\", \"Katy\", \"The Woodlands\", \"Sugar Land\", \"Pearland\", \"Cypress\", \"Spring\", \"League City\", \"Baytown\", \"Pasadena\", \"Clear Lake\"]\n",
    "\n",
    "last_names = [\"张\", \"王\", \"李\", \"刘\", \"赵\", \"孙\", \"周\", \"杨\", \"林\", \"陈\"]\n",
    "first_names = [\"一\", \"二\", \"三\", \"四\", \"五\", \"六\", \"七\", \"八\", \"九\", \"十\"]\n",
    "nick_names = [f\"{last_name}{first_name}\" for last_name in last_names for first_name in first_names]\n",
    "# Create a DataFrame with the specified columns and random data\n",
    "df = pd.DataFrame({\n",
    "    \"Timestamp\": pd.date_range(start=\"2024-01-01\", periods=num_responses, freq=\"D\"),\n",
    "    \"Email Address\": [f\"user{i}@example.com\" for i in range(num_responses)],\n",
    "    \"中文姓名\": [f\"中文名字{i}\" for i in range(num_responses)],\n",
    "    \"English Name\": [f\"EnglishName{i}\" for i in range(num_responses)],\n",
    "    \"昵称\": nick_names,\n",
    "    \"性别\": np.random.choice([\"Male\", \"Female\"], num_responses),\n",
    "    \"入学年份\": np.random.choice(range(2000, 2025), num_responses),\n",
    "    \"学院\": np.random.choice([\"Engineering\", \"Business\", \"Arts\", \"Science\"], num_responses),\n",
    "    \"学位\": np.random.choice([\"Bachelor\", \"Master\", \"PhD\"], num_responses),\n",
    "    \"现居住地邮编\": [f\"{np.random.randint(10000, 99999)}\" for _ in range(num_responses)],\n",
    "    \"所属社区\": random.choices(communities, k=num_responses),\n",
    "    \"微信\": [f\"WeChatID{i}\" for i in range(num_responses)],\n",
    "    \"手机号\": [generate_phone_number() for _ in range(num_responses)],\n",
    "    \"Instagram\": [f\"Insta{i}\" for i in range(num_responses)],\n",
    "    \"愿意通过哪个方式被联系到？\": np.random.choice([\"Email\", \"WeChat\", \"Phone\", \"Instagram\"], num_responses),\n",
    "    \"现居住地址\": [f\"Address{i}\" for i in range(num_responses)],\n",
    "    \"是否单身？\": np.random.choice([\"Yes\", \"No\"], num_responses),\n",
    "    \"就职公司名称\": [f\"Company{i}\" for i in range(num_responses)],\n",
    "    \"所属行业\": np.random.choice([\"Tech\", \"Education\", \"Healthcare\", \"Finance\"], num_responses),\n",
    "    \"在行业内的年限\": np.random.choice(range(1, 21), num_responses),\n",
    "    \"是否愿意推荐校友去自己的公司？\": np.random.choice([\"Yes\", \"No\"], num_responses),\n",
    "    \"是否愿意向校友推广自己的公司？\": np.random.choice([\"Yes\", \"No\"], num_responses),\n",
    "    \"公司名称\": [f\"Company{i}\" for i in range(num_responses)],\n",
    "    \"联系方式\": [generate_phone_number() for _ in range(num_responses)],\n",
    "    \"地址\": [f\"CompanyAddress{i}\" for i in range(num_responses)],\n",
    "    \"邮编\": [f\"{np.random.randint(10000, 99999)}\" for _ in range(num_responses)],\n",
    "    \"业务范围\": np.random.choice([\"Product\", \"Service\", \"Consulting\"], num_responses),\n",
    "    \"公司图标\": [f\"Logo{i}.png\" for i in range(num_responses)],\n",
    "    \"匹配社区\": [f\"{np.random.randint(10000, 99999)}\" for _ in range(num_responses)],\n",
    "    \"社交爱好\": np.random.choice([\"Photography\", \"Reading\", \"Travel\", \"Painting\"], num_responses),\n",
    "    \"体育运动类爱好\": np.random.choice([\"Running\", \"Swimming\", \"Basketball\", \"Yoga\"], num_responses),\n",
    "    \"关注的热点话题\": np.random.choice([\"Health\", \"Politics\", \"Finance\", \"Technology\"], num_responses),\n",
    "})\n",
    "df.to_csv(\"test.csv\")\n",
    "df.head()  # Display the first few rows of the DataFrame\n"
   ]
  },
  {
   "cell_type": "markdown",
   "source": [
    "# Create pie chart"
   ],
   "metadata": {
    "collapsed": false,
    "pycharm": {
     "name": "#%% md\n"
    }
   }
  },
  {
   "cell_type": "code",
   "execution_count": 2,
   "outputs": [],
   "source": [
    "IMG_DIR = \"images\"\n",
    "os.makedirs(IMG_DIR, exist_ok=True)\n",
    "# 设置 matplotlib 的全局字体\n",
    "plt.rcParams['font.sans-serif'] = ['SimHei']  # 'SimHei' 是一种常见的支持中文的字体\n",
    "plt.rcParams['axes.unicode_minus'] = False  # 正确显示负号\n",
    "\n",
    "targets_chinese = [\"所属社区\", '学院', '所属行业', '社交爱好', '体育运动类爱好', '关注的热点话题']\n",
    "targets_english = [\"community\", \"college\", \"industry\", \"hobby\", \"sports\", \"hot\"]\n",
    "for target_chinese, target_english in zip(targets_chinese, targets_english):\n",
    "    target_counts = df[target_chinese].value_counts()\n",
    "\n",
    "    # 生成饼图\n",
    "    plt.figure(figsize=(8, 8))\n",
    "    plt.pie(target_counts, labels=target_counts.index, autopct='%1.1f%%')\n",
    "    plt.title(f'校友在{target_chinese}的分布')\n",
    "    plt.savefig(f'{IMG_DIR}/{target_english}_distribution_pie.png')\n",
    "    plt.close()\n",
    "\n",
    "    # 绘制柱状图\n",
    "    plt.figure(figsize=(12, 8))\n",
    "    target_counts.plot(kind='bar')\n",
    "    plt.title(f'校友在{target_chinese}的分布')\n",
    "    plt.xlabel(f'{target_chinese}')\n",
    "    plt.ylabel('校友数')\n",
    "    plt.xticks(rotation=45)\n",
    "    plt.tight_layout()\n",
    "    plt.savefig(f\"{IMG_DIR}/{target_english}_distribution_hist.png\")\n",
    "    plt.close()"
   ],
   "metadata": {
    "collapsed": false,
    "pycharm": {
     "name": "#%%\n"
    }
   }
  },
  {
   "cell_type": "markdown",
   "source": [
    "# Heat map"
   ],
   "metadata": {
    "collapsed": false,
    "pycharm": {
     "name": "#%% md\n"
    }
   }
  },
  {
   "cell_type": "code",
   "execution_count": 11,
   "outputs": [],
   "source": [
    "# import folium\n",
    "# from folium.plugins import HeatMap\n",
    "#\n",
    "# locations = {\n",
    "#     \"Downtown\": [29.756954817074494, -95.36034777819523],\n",
    "#     \"Inner Loop\": [29.76448961582833, -95.45081705842782],\n",
    "#                 \"I-610 to Beltway 8\": [29.691940442442785, -95.32770384076193],\n",
    "#                 \"Energy Corridor\": [29.781303209000473, -95.63629434412921],\n",
    "#                 \"Katy\": [29.785875525326624, -95.82584461805949],\n",
    "#                 \"The Woodlands\": [30.161819582336765, -95.46694781136829],\n",
    "#                 \"Sugar Land\": [29.59840969080056, -95.6238495746984],\n",
    "#                 \"Pearland\": [29.561231189817843, -95.28508703898648],\n",
    "#                 \"Cypress\": [29.971107675680898, -95.69749878968416],\n",
    "#                 \"Spring\": [30.0804293862743, -95.41570339335017],\n",
    "#                 \"League City\": [29.50744016209295, -95.0954181692523],\n",
    "#                 \"Baytown\": [29.735659030914295, -94.97644605010763],\n",
    "#                 \"Pasadena\": [29.690529444311803, -95.18710323438891],\n",
    "#     \"Clear Lake\": [29.57696847562151, -95.12253624511492]\n",
    "# }\n",
    "#\n",
    "# # 创建休斯顿地图的中心点\n",
    "# map_houston = folium.Map(location=[29.7604, -95.3698], zoom_start=10)\n",
    "#\n",
    "# heat_data = [(loc[0], loc[1], float(count)) for area, loc in locations.items() for count in [area_counts.get(area, 0)]]\n",
    "#\n",
    "# # 创建热力图并添加到地图\n",
    "# HeatMap(heat_data).add_to(map_houston)\n",
    "#\n",
    "# # 保存地图为HTML文件\n",
    "# map_houston.save(\"houston_heatmap.html\")"
   ],
   "metadata": {
    "collapsed": false,
    "pycharm": {
     "name": "#%%\n"
    }
   }
  },
  {
   "cell_type": "markdown",
   "source": [],
   "metadata": {
    "collapsed": false,
    "pycharm": {
     "name": "#%% md\n"
    }
   }
  },
  {
   "cell_type": "markdown",
   "source": [
    "# Get people with shared interest"
   ],
   "metadata": {
    "collapsed": false,
    "pycharm": {
     "name": "#%% md\n"
    }
   }
  },
  {
   "cell_type": "code",
   "execution_count": 3,
   "outputs": [],
   "source": [
    "personal_details = {}\n",
    "\n",
    "for index, row in df.iterrows():\n",
    "    email = row['Email Address']\n",
    "    features = []\n",
    "    for target in targets_chinese:\n",
    "        features.append(row[target])\n",
    "    college = row['学院']\n",
    "    industry = row['所属行业']\n",
    "    community = row['匹配社区']\n",
    "    social_hobby = row['社交爱好']\n",
    "    sport_hobby = row['体育运动类爱好']\n",
    "    hot_topic = row['关注的热点话题']\n",
    "\n",
    "    nickname_or_name = row['昵称'] if pd.notna(row['昵称']) and row['昵称'] != '' else row['中文姓名']\n",
    "\n",
    "    personal_details[email] = {\n",
    "        \"name\": nickname_or_name}\n",
    "    # 查找共同学院的人\n",
    "    for feature, target_chinese, target_english in zip(features, targets_chinese, targets_english):\n",
    "        personal_details[email][f\"common_{target_english}\"] = [(df.loc[idx, '昵称'] if pd.notna(df.loc[idx, '昵称']) and df.loc[idx, '昵称'] != '' else df.loc[idx, '中文姓名'], idx)\n",
    "                             for idx in df[df[target_chinese] == feature].index if df.loc[idx, 'Email Address'] != email]\n"
   ],
   "metadata": {
    "collapsed": false,
    "pycharm": {
     "name": "#%%\n"
    }
   }
  },
  {
   "cell_type": "code",
   "execution_count": 7,
   "outputs": [
    {
     "name": "stderr",
     "output_type": "stream",
     "text": [
      "C:\\Users\\zhang\\AppData\\Local\\Temp\\ipykernel_30404\\3686162834.py:11: DeprecationWarning: \"uni\" parameter is deprecated since v2.5.1, unused and will soon be removed\n",
      "  self.add_font('ChineseFont', '', 'C:\\Windows\\Fonts\\simhei.ttf', uni=True)\n",
      "C:\\Users\\zhang\\AppData\\Local\\Temp\\ipykernel_30404\\3686162834.py:20: DeprecationWarning: The parameter \"ln\" is deprecated since v2.5.2. Instead of ln=1 use new_x=XPos.LMARGIN, new_y=YPos.NEXT.\n",
      "  self.cell(0, 10, title, 0, 1, 'L')\n"
     ]
    }
   ],
   "source": [
    "from fpdf import FPDF\n",
    "import matplotlib.pyplot as plt\n",
    "from PyPDF2 import PdfReader, PdfWriter\n",
    "\n",
    "PDF_DIR = \"pdf\"\n",
    "os.makedirs(PDF_DIR, exist_ok=True)\n",
    "\n",
    "class PDF(FPDF):\n",
    "    def __init__(self):\n",
    "        super().__init__()\n",
    "        self.add_font('ChineseFont', '', 'C:\\Windows\\Fonts\\simhei.ttf', uni=True)\n",
    "\n",
    "\n",
    "    # def header(self):\n",
    "    #     self.set_font('ChineseFont', '', 12)\n",
    "    #     self.cell(0, 10, '北京大学休斯敦校友会黄页', 0, 1, 'C')\n",
    "\n",
    "    def chapter_title(self, title):\n",
    "        self.set_font('ChineseFont', '', 12)\n",
    "        self.cell(0, 10, title, 0, 1, 'L')\n",
    "        self.ln(10)\n",
    "\n",
    "    def chapter_body(self, body):\n",
    "        self.set_font('ChineseFont', '', 8)\n",
    "        self.multi_cell(0, 10, body)\n",
    "\n",
    "for person in list(personal_details.keys())[:2]:\n",
    "    pdf = PDF()\n",
    "    pdf.add_page()\n",
    "    details = personal_details[person]\n",
    "    pdf.chapter_title(\"基本信息\")\n",
    "    pdf.chapter_body(f\"邮箱: {person}\\n昵称或中文名: {details['name']}\")\n",
    "\n",
    "    for target_chinese, target_english in zip(targets_chinese, targets_english):\n",
    "        pdf.add_page()\n",
    "        pdf.chapter_title(f\"在休斯顿，共有{len(details[f'common_{target_english}'])}人与您有共同的{target_chinese}，他们分别是：\")\n",
    "\n",
    "        common_people_str = ', '.join([f\"{name} (ID: {idx})\" for name, idx in details[f'common_{target_english}']])\n",
    "        pdf.image(f'{IMG_DIR}/{target_english}_distribution_pie.png', x=10, y=100, w=180)\n",
    "\n",
    "        pdf.chapter_body(common_people_str)\n",
    "\n",
    "    draft_pdf_path = f'{PDF_DIR}/{person}.pdf'\n",
    "    pdf.output(draft_pdf_path)\n",
    "\n",
    "    # 使用PyPDF2为PDF添加书签\n",
    "    reader = PdfReader(draft_pdf_path)\n",
    "    writer = PdfWriter()\n",
    "\n",
    "    for i, page in enumerate(reader.pages):\n",
    "        writer.add_page(page)\n",
    "        if i == 0:\n",
    "            writer.add_outline_item('基本信息', i)\n",
    "        else:\n",
    "            writer.add_outline_item(f'共同的{targets_chinese[i - 1]}', i)\n",
    "\n",
    "    # 保存最终PDF\n",
    "    final_pdf_path = f'{PDF_DIR}/{person}.pdf'\n",
    "    with open(final_pdf_path, 'wb') as f_out:\n",
    "        writer.write(f_out)"
   ],
   "metadata": {
    "collapsed": false,
    "pycharm": {
     "name": "#%%\n"
    }
   }
  },
  {
   "cell_type": "code",
   "execution_count": null,
   "outputs": [],
   "source": [],
   "metadata": {
    "collapsed": false,
    "pycharm": {
     "name": "#%%\n"
    }
   }
  }
 ],
 "metadata": {
  "kernelspec": {
   "display_name": "Python 3",
   "language": "python",
   "name": "python3"
  },
  "language_info": {
   "codemirror_mode": {
    "name": "ipython",
    "version": 2
   },
   "file_extension": ".py",
   "mimetype": "text/x-python",
   "name": "python",
   "nbconvert_exporter": "python",
   "pygments_lexer": "ipython2",
   "version": "2.7.6"
  }
 },
 "nbformat": 4,
 "nbformat_minor": 0
}